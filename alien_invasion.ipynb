{
 "cells": [
  {
   "cell_type": "code",
   "execution_count": null,
   "id": "c7aa529c",
   "metadata": {
    "scrolled": true
   },
   "outputs": [
    {
     "name": "stdout",
     "output_type": "stream",
     "text": [
      "pygame 2.1.3 (SDL 2.0.22, Python 3.9.13)\n",
      "Hello from the pygame community. https://www.pygame.org/contribute.html\n"
     ]
    }
   ],
   "source": [
    "import sys\n",
    "import pygame\n",
    "from settings import Settings\n",
    "from game_stats import GameStats\n",
    "from alien import Alien\n",
    "from ship import Ship\n",
    "import game_functions as gf\n",
    "from button import Button\n",
    "from pygame.sprite import Group\n",
    "from scoreboard import Scoreboard\n",
    "def run_game():\n",
    "    pygame.init()\n",
    "    ai_settings=Settings()\n",
    "    screen=pygame.display.set_mode((ai_settings.screen_width,ai_settings.screen_height))\n",
    "    pygame.display.set_caption(\"Alien Invasion\")\n",
    "    play_button=Button(ai_settings,screen,\"play\")\n",
    "    ship=Ship(ai_settings,screen)\n",
    "    bullets=Group()\n",
    "    aliens=Group()\n",
    "    alien=Alien(ai_settings,screen)\n",
    "    gf.create_fleet(ai_settings,screen,ship,aliens)\n",
    "    stats = GameStats(ai_settings)\n",
    "    sb=Scoreboard(ai_settings,screen,stats)\n",
    "    while True:\n",
    "        gf.check_events(ai_settings,screen,stats,sb,play_button,ship,aliens,bullets)\n",
    "        if stats.game_active: \n",
    "            ship.update()\n",
    "            gf.update_bullets(ai_settings,screen,stats,sb,ship,aliens,bullets)\n",
    "            gf.update_aliens(ai_settings,stats,sb,screen,ship,aliens,bullets)\n",
    "        gf.update_screen(ai_settings,screen,stats,sb,ship,aliens,bullets,play_button)\n",
    "run_game()"
   ]
  },
  {
   "cell_type": "code",
   "execution_count": null,
   "id": "39d3cf43",
   "metadata": {},
   "outputs": [],
   "source": []
  },
  {
   "cell_type": "code",
   "execution_count": null,
   "id": "c23e10b3",
   "metadata": {},
   "outputs": [],
   "source": []
  }
 ],
 "metadata": {
  "kernelspec": {
   "display_name": "Python 3 (ipykernel)",
   "language": "python",
   "name": "python3"
  },
  "language_info": {
   "codemirror_mode": {
    "name": "ipython",
    "version": 3
   },
   "file_extension": ".py",
   "mimetype": "text/x-python",
   "name": "python",
   "nbconvert_exporter": "python",
   "pygments_lexer": "ipython3",
   "version": "3.9.13"
  },
  "vscode": {
   "interpreter": {
    "hash": "13035ac6c8f2b0b89503ee6ca808c6d483e24f52d39ebaf7ed6c19282e24dc25"
   }
  }
 },
 "nbformat": 4,
 "nbformat_minor": 5
}
